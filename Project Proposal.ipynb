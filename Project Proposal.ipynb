{
 "cells": [
  {
   "cell_type": "markdown",
   "metadata": {},
   "source": [
    "# **Salifort Motors Project Proposal**"
   ]
  },
  {
   "cell_type": "markdown",
   "metadata": {},
   "source": [
    "### **Objective:**"
   ]
  },
  {
   "cell_type": "markdown",
   "metadata": {},
   "source": [
    "Salifort Motors is seeking a method to use employee data to gauge what makes them leave the company."
   ]
  },
  {
   "cell_type": "markdown",
   "metadata": {},
   "source": [
    "### **Tasks and Schedule**:"
   ]
  },
  {
   "cell_type": "markdown",
   "metadata": {},
   "source": [
    "\n",
    "| Milestones | Tasks | PACE Stages | Outcome/Deliverables | Estimated Time | \n",
    "| -----------| ----- | ----------- | ----------- | ----------- |\n",
    "| 1 | Understand the business scenario and define the problem | Plan | <li>Project Proposal <li>Stakeholders updated | 1 week |\n",
    "| 2\t| Data exploration and data cleaning | Plan, Analyze | <li>Database ready for modeling <li>Stakeholdes updated | 1 week |\n",
    "| 3\t| Determine which models are most appropriate | Analyze,Construct | <li>Exploratory Data Analysis Report <li>Model Selection <li>Stakeholders updated | 2 weeks |\n",
    "| 4\t| Construct the model | Construct | <li>Initial machine learning model <li>Stakeholders updated | 2 weeks |\n",
    "| 5\t| Confirm model assumptions\t| Analyze, Construct | <li>Confirmed machine learning model <li>Stakeholders updated | 1 week |\n",
    "| 6\t| Evaluate model results | Analyze | <li>Final machine learning model <li>Stakeholders updated | 1 week |\n",
    "| 7\t| Interpret results and share actionable steps with stakeholders | Execute | <li>Final Report <li>Executive summary <li>Results presentation / meeting | 2 weeks |\n",
    "|  |  |  | **Estimated Total Time:** | **10 weeks** |  \n"
   ]
  },
  {
   "cell_type": "markdown",
   "metadata": {},
   "source": [
    "![PACE workframe](PACE_strategy.png \"PACE workframe\")\n"
   ]
  },
  {
   "cell_type": "markdown",
   "metadata": {},
   "source": [
    "## **Author:**\n",
    "\n",
    "Alberto M. Palacio Bastos"
   ]
  }
 ],
 "metadata": {
  "kernelspec": {
   "display_name": "Python 3",
   "language": "python",
   "name": "python3"
  },
  "language_info": {
   "name": "python",
   "version": "3.10.13"
  }
 },
 "nbformat": 4,
 "nbformat_minor": 2
}
