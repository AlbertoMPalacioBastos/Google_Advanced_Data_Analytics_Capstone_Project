{
 "cells": [
  {
   "cell_type": "markdown",
   "metadata": {},
   "source": [
    "## PROJECT PROPOSAL"
   ]
  },
  {
   "cell_type": "markdown",
   "metadata": {},
   "source": [
    "# **Salifort Motors Project Proposal**\n"
   ]
  },
  {
   "cell_type": "markdown",
   "metadata": {},
   "source": [
    "**Overview**"
   ]
  },
  {
   "cell_type": "markdown",
   "metadata": {},
   "source": [
    "Salifort Motors is seeking a method to use employee data to gauge what makes them leave the company."
   ]
  },
  {
   "cell_type": "markdown",
   "metadata": {},
   "source": [
    "| Milestones | Tasks | PACE Stages |\n",
    "| -----------| ----- | ----------- |\n",
    "| 1 | Understand the business scenario and define the problem | Plan |\n",
    "| 2\t| Data exploration and data cleaning | Plan, Analyze |\n",
    "| 3\t| Determine which models are most appropriate | Analyze,Construct |\n",
    "| 4\t| Construct the model | Construct |\n",
    "| 5\t| Confirm model assumptions\t| Analyze, Construct |\n",
    "| 6\t| Evaluate model results | Analyze |\n",
    "| 7\t| Interpret results and share actionable steps with stakeholders | Execute |\n"
   ]
  },
  {
   "cell_type": "markdown",
   "metadata": {},
   "source": [
    "![PACE worframe](/workspaces/Google_Advanced_Data_Analytics_Capstone_Project/PACE_strategy.png \"PACE worframe\")\n"
   ]
  }
 ],
 "metadata": {
  "kernelspec": {
   "display_name": "Python 3",
   "language": "python",
   "name": "python3"
  },
  "language_info": {
   "name": "python",
   "version": "3.10.13"
  }
 },
 "nbformat": 4,
 "nbformat_minor": 2
}
